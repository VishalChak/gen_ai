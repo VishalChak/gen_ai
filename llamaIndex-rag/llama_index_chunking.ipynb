{
 "cells": [
  {
   "cell_type": "code",
   "execution_count": 2,
   "id": "6e7ff7f5-b515-4380-a566-867461b2c2fe",
   "metadata": {},
   "outputs": [],
   "source": [
    "from llama_index.core import VectorStoreIndex, SimpleDirectoryReader, Settings"
   ]
  },
  {
   "cell_type": "code",
   "execution_count": 58,
   "id": "33fb2df7-08b4-4210-856b-70906ed91e2f",
   "metadata": {},
   "outputs": [],
   "source": [
    "from llama_index.llms.groq import Groq\n",
    "class RAGPipeline:\n",
    "    def __init__(self, llm_model, api_key, data_dir, embed_model):\n",
    "        self.llm = Groq(model = llm_model,\n",
    "                       api_key = api_key\n",
    "                       )\n",
    "        self.embed_model = embed_model\n",
    "        self.data_dir = data_dir\n",
    "        self.index = None\n",
    "        self.query_engine = None\n",
    "        self._setup()\n",
    "    def _setup(self):\n",
    "        Settings.llm = self.llm\n",
    "        Settings.embed_model = embed_model\n",
    "\n",
    "        ### fixed chunking\n",
    "        # Settings.chunk_size = 512\n",
    "        # Settings.chunk_overlap = 50\n",
    "\n",
    "        ### Sentence-based-chunking\n",
    "        # from llama_index.core.node_parser import SentenceSplitter\n",
    "        # Settings.text_splitter = SentenceSplitter(chunk_size=1024) ## chunk_size is optional\n",
    "\n",
    "        ### Sementic Chunking\n",
    "        # from llama_index.core.node_parser import SemanticSplitterNodeParser\n",
    "        # from llama_index.embeddings.huggingface import HuggingFaceEmbedding\n",
    "        # embed_model_1 = HuggingFaceEmbedding(model_name=\"BAAI/bge-small-en-v1.5\")\n",
    "        # Settings.text_splitter = SemanticSplitterNodeParser(embed_model = embed_model_1 , chunk_size=1024)\n",
    "        \n",
    "        \n",
    "        documents = SimpleDirectoryReader(self.data_dir).load_data()\n",
    "        self.index = VectorStoreIndex.from_documents(documents)\n",
    "        self.query_engine = self.index.as_query_engine(\n",
    "            similarity_top_k = 3,\n",
    "            respose_mode = \"compect\"\n",
    "        )\n",
    "\n",
    "    def response(self, question):\n",
    "        return self.query_engine.query(question)        "
   ]
  },
  {
   "cell_type": "code",
   "execution_count": 59,
   "id": "68683359-fcf6-4fa7-9eec-1f9a981791f0",
   "metadata": {},
   "outputs": [],
   "source": [
    "llm_model = \"compound-beta\"\n",
    "embed_model = \"local:BAAI/bge-small-en-v1.5\"\n",
    "groq_api_key = \"\"\n",
    "data_dir = \"data\"\n",
    "rag = RAGPipeline(llm_model = llm_model , api_key = groq_api_key , data_dir = data_dir , embed_model = embed_model)"
   ]
  },
  {
   "cell_type": "code",
   "execution_count": 60,
   "id": "6192983c-e551-42d6-ad68-254afab5d555",
   "metadata": {},
   "outputs": [],
   "source": [
    "response = rag.response(\"Who is Vishal\")"
   ]
  },
  {
   "cell_type": "code",
   "execution_count": 61,
   "id": "7d5b9dc5-5e6a-4cec-9df1-dec37f3235e2",
   "metadata": {},
   "outputs": [
    {
     "name": "stdout",
     "output_type": "stream",
     "text": [
      "Vishal Babu is a Lead Data Scientist with over 9.5 years of experience in building and deploying AI/ML systems, specializing in areas like Generative AI, LLMs, and intelligent agent frameworks. He is skilled in various programming languages, including Python, SQL, and PySpark, and has expertise in modern ML stacks, data engineering, and deployment using tools like Docker, FastAPI, and Kubernetes.\n"
     ]
    }
   ],
   "source": [
    "print(response)"
   ]
  },
  {
   "cell_type": "code",
   "execution_count": null,
   "id": "8fbb1b4d-c929-4d52-bf90-728586d35056",
   "metadata": {},
   "outputs": [],
   "source": []
  }
 ],
 "metadata": {
  "kernelspec": {
   "display_name": "Python 3 (ipykernel)",
   "language": "python",
   "name": "python3"
  },
  "language_info": {
   "codemirror_mode": {
    "name": "ipython",
    "version": 3
   },
   "file_extension": ".py",
   "mimetype": "text/x-python",
   "name": "python",
   "nbconvert_exporter": "python",
   "pygments_lexer": "ipython3",
   "version": "3.11.12"
  }
 },
 "nbformat": 4,
 "nbformat_minor": 5
}
