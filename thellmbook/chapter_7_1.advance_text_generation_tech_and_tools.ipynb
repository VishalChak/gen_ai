{
 "cells": [
  {
   "cell_type": "markdown",
   "id": "8901473a-89a9-488d-af69-6af92e400aab",
   "metadata": {},
   "source": [
    "### Chapter 7. Advanced Text Generation Techniques and Tools\n",
    "\n",
    "> 1. Model I/O: Loading and working with LLMs\n",
    "> 2. Memory: Helping LLMs to remember\n",
    "> 3. Agents: Combining complex behavior with external tools\n",
    "> 4. Chains: Connecting methods and modules\n",
    "\n",
    "'''  These methods are all integrated with the LangChain\n",
    " framework that will help us easily use these advanced\n",
    " techniques throughout this chapter.'''\n",
    "\n",
    "\n",
    " '''  Newer frameworks of note are\n",
    " DSPy and Haystack.\n",
    " '''"
   ]
  },
  {
   "cell_type": "code",
   "execution_count": null,
   "id": "62303456-41a3-40f0-97e1-bd44e91ccc50",
   "metadata": {},
   "outputs": [],
   "source": [
    " These methods are all integrated with the LangChain\n",
    " framework that will help us easily use these advanced\n",
    " techniques throughout this chapter."
   ]
  }
 ],
 "metadata": {
  "kernelspec": {
   "display_name": "Python 3 (ipykernel)",
   "language": "python",
   "name": "python3"
  },
  "language_info": {
   "codemirror_mode": {
    "name": "ipython",
    "version": 3
   },
   "file_extension": ".py",
   "mimetype": "text/x-python",
   "name": "python",
   "nbconvert_exporter": "python",
   "pygments_lexer": "ipython3",
   "version": "3.10.16"
  }
 },
 "nbformat": 4,
 "nbformat_minor": 5
}
