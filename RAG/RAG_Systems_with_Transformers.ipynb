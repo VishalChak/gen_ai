{
 "cells": [
  {
   "cell_type": "markdown",
   "id": "6583584a-e199-447b-aa25-9d3f55e6f7bb",
   "metadata": {},
   "source": [
    "### RAG Systems with Transformers"
   ]
  },
  {
   "cell_type": "markdown",
   "id": "fc7d09ff-8d9f-43b0-aacc-a87e29fe8cbf",
   "metadata": {},
   "source": [
    "##### 1. Building the Document Indexing System"
   ]
  },
  {
   "cell_type": "code",
   "execution_count": 1,
   "id": "a8e819e7-a640-4a3e-8e9c-93ef98cc9d5b",
   "metadata": {},
   "outputs": [
    {
     "name": "stdout",
     "output_type": "stream",
     "text": [
      "Collecting faiss-cpu\n",
      "  Downloading faiss_cpu-1.10.0-cp312-cp312-manylinux_2_28_x86_64.whl.metadata (4.4 kB)\n",
      "Requirement already satisfied: numpy<3.0,>=1.25.0 in /home/vishal/anaconda3/envs/rnd/lib/python3.12/site-packages (from faiss-cpu) (2.2.4)\n",
      "Requirement already satisfied: packaging in /home/vishal/anaconda3/envs/rnd/lib/python3.12/site-packages (from faiss-cpu) (24.2)\n",
      "Downloading faiss_cpu-1.10.0-cp312-cp312-manylinux_2_28_x86_64.whl (30.7 MB)\n",
      "\u001b[2K   \u001b[90m━━━━━━━━━━━━━━━━━━━━━━━━━━━━━━━━━━━━━━━━\u001b[0m \u001b[32m30.7/30.7 MB\u001b[0m \u001b[31m2.5 MB/s\u001b[0m eta \u001b[36m0:00:00\u001b[0m00:01\u001b[0m00:01\u001b[0m\n",
      "\u001b[?25hInstalling collected packages: faiss-cpu\n",
      "Successfully installed faiss-cpu-1.10.0\n"
     ]
    }
   ],
   "source": [
    "!pip install faiss-cpu"
   ]
  },
  {
   "cell_type": "code",
   "execution_count": 75,
   "id": "dcafdc1d-9174-4e34-b2a5-2b83e131da3d",
   "metadata": {},
   "outputs": [],
   "source": [
    "import faiss\n",
    "import torch\n",
    "from transformers import AutoTokenizer, AutoModel"
   ]
  },
  {
   "cell_type": "code",
   "execution_count": 76,
   "id": "d61d1036-99ea-449e-b63b-21342ee203f2",
   "metadata": {},
   "outputs": [],
   "source": [
    "tokenizer = AutoTokenizer.from_pretrained(\"sentence-transformers/all-MiniLM-L6-v2\")\n",
    "model = AutoModel.from_pretrained(\"sentence-transformers/all-MiniLM-L6-v2\")"
   ]
  },
  {
   "cell_type": "code",
   "execution_count": 77,
   "id": "13b69175-f321-4198-855e-29622c6c0b15",
   "metadata": {},
   "outputs": [],
   "source": [
    "def generate_embedding(docs, model, tokenizer):\n",
    "    ### tokenize each text and convert to pytorch tensors\n",
    "    inputs = tokenizer(docs, padding=True, truncation=True, return_tensors=\"pt\", max_length =512)\n",
    "    with torch.no_grad():\n",
    "        outputs = model(**inputs)\n",
    "    ## embedding defined as mean pooling of all tokens\n",
    "    attention_mask = inputs[\"attention_mask\"]\n",
    "    embeddings = outputs.last_hidden_state\n",
    "\n",
    "    expanded_mask = attention_mask.unsqueeze(-1).expand(embeddings.shape).float()\n",
    "    sum_embeddings = torch.sum(embeddings * expanded_mask, axis=1)\n",
    "    sum_mask = torch.clamp(expanded_mask.sum(axis=1), min=1e-9)\n",
    "    mean_embeddings = sum_embeddings / sum_mask\n",
    "\n",
    "    \n",
    "    ### convert numpy array\n",
    "    return mean_embeddings.cpu().numpy()    "
   ]
  },
  {
   "cell_type": "code",
   "execution_count": 78,
   "id": "c38e0d33-eea3-4dd0-9616-d15101df2dc3",
   "metadata": {},
   "outputs": [],
   "source": [
    "# Sample document collection\n",
    "documents = [\n",
    "    \"Transformers are a type of deep learning model introduced in the paper 'Attention \"\n",
    "        \"Is All You Need'.\",\n",
    "    \"BERT (Bidirectional Encoder Representations from Transformers) is a \"\n",
    "        \"transformer-based model designed to understand the context of a word based on \"\n",
    "        \"its surroundings.\",\n",
    "    \"GPT (Generative Pre-trained Transformer) is a transformer-based model designed for \"\n",
    "        \"natural language generation tasks.\",\n",
    "    \"T5 (Text-to-Text Transfer Transformer) treats every NLP problem as a text-to-text \"\n",
    "        \"problem, where both the input and output are text strings.\",\n",
    "    \"RoBERTa is an optimized version of BERT with improved training methodology and more \"\n",
    "        \"training data.\",\n",
    "    \"DistilBERT is a smaller, faster version of BERT that retains 97% of its language \"\n",
    "        \"understanding capabilities.\",\n",
    "    \"ALBERT reduces the parameters of BERT by sharing parameters across layers and using \"\n",
    "        \"embedding factorization.\",\n",
    "    \"XLNet is a generalized autoregressive pretraining method that overcomes the \"\n",
    "        \"limitations of BERT by using permutation language modeling.\",\n",
    "    \"ELECTRA uses a generator-discriminator architecture for more efficient pretraining.\",\n",
    "    \"DeBERTa enhances BERT with disentangled attention and an enhanced mask decoder.\"\n",
    "]"
   ]
  },
  {
   "cell_type": "code",
   "execution_count": 79,
   "id": "77589cca-0f8f-42b6-b07c-0d9c2554a030",
   "metadata": {},
   "outputs": [],
   "source": [
    "### Generate embeddings for all documents , then create FAIDD index for efficient similarity search"
   ]
  },
  {
   "cell_type": "code",
   "execution_count": 80,
   "id": "74e276d1-08ee-4e54-bccf-c0331fdba894",
   "metadata": {},
   "outputs": [
    {
     "name": "stdout",
     "output_type": "stream",
     "text": [
      "Create index with 10 documents\n"
     ]
    }
   ],
   "source": [
    "###  using L2 (Euclidean) distance\n",
    "document_embeddings = generate_embedding(documents, model, tokenizer)\n",
    "dimension = document_embeddings.shape[1]   ## dimension of embeddings\n",
    "index = faiss.IndexFlatL2(dimension) ### Using L2 (Euclidean ) distance\n",
    "index.add(document_embeddings)   #### add enbeddings to the index\n",
    "print(f\"Create index with {index.ntotal} documents\")"
   ]
  },
  {
   "cell_type": "code",
   "execution_count": 81,
   "id": "b5345c49-da5c-4950-bfb5-e4f88d93856b",
   "metadata": {},
   "outputs": [],
   "source": [
    "### If you intended to use cosine distance\n",
    "# document_embeddings = generate_embedding(documents, model, tokenizer)\n",
    "# normalized = document_embeddings /np.linalg.norm(document_embeddings, axis=1, keepdims)\n",
    "# index.add(normalized)"
   ]
  },
  {
   "cell_type": "markdown",
   "id": "51be1db5-17c3-44be-befd-8969f0aa9340",
   "metadata": {},
   "source": [
    "### Implement the retrival system"
   ]
  },
  {
   "cell_type": "code",
   "execution_count": 82,
   "id": "75c3c7e7-d09d-418c-9292-cf5031b4ddb1",
   "metadata": {},
   "outputs": [],
   "source": [
    "def retrieve_documents(query, index, documents, k=3):\n",
    "    ## generate embeding for the query\n",
    "    query_embedding = generate_embedding(query, model, tokenizer)\n",
    "    distances, indices = index.search(query_embedding, k)\n",
    "    retrieved_docs = [(documents[idx], float(distances[0][i])) for i , idx in enumerate(indices[0])]\n",
    "    return retrieved_docs  "
   ]
  },
  {
   "cell_type": "code",
   "execution_count": 83,
   "id": "68c3c056-15a8-4565-939d-aeda74d79750",
   "metadata": {},
   "outputs": [
    {
     "name": "stdout",
     "output_type": "stream",
     "text": [
      "Query: What is BERT?\n",
      "\n",
      "Document 1 (Distance: 23.7060):\n",
      "BERT (Bidirectional Encoder Representations from Transformers) is a transformer-based model designed to understand the context of a word based on its surroundings.\n",
      "\n",
      "Document 2 (Distance: 28.0793):\n",
      "RoBERTa is an optimized version of BERT with improved training methodology and more training data.\n",
      "\n",
      "Document 3 (Distance: 29.5908):\n",
      "DistilBERT is a smaller, faster version of BERT that retains 97% of its language understanding capabilities.\n",
      "\n"
     ]
    }
   ],
   "source": [
    "#### example query\n",
    "\n",
    "query = \"What is BERT?\"\n",
    "retrieved_docs = retrieve_documents(query, index,documents )\n",
    "\n",
    "\n",
    "# Print the retrieved documents\n",
    "print(f\"Query: {query}\\n\")\n",
    "for i, (doc, distance) in enumerate(retrieved_docs):\n",
    "    print(f\"Document {i+1} (Distance: {distance:.4f}):\")\n",
    "    print(doc)\n",
    "    print()"
   ]
  },
  {
   "cell_type": "code",
   "execution_count": 84,
   "id": "d783b9fc-2c29-4e23-98ae-d3bc868ef010",
   "metadata": {},
   "outputs": [],
   "source": [
    "from transformers import AutoModelForSeq2SeqLM\n",
    "\n",
    "gen_tokenizer = AutoTokenizer.from_pretrained(\"t5-small\")\n",
    "gen_model = AutoModelForSeq2SeqLM.from_pretrained(\"t5-small\")\n",
    "\n",
    "def generate_response(query, retrieved_docs, max_length=150):\n",
    "    # Combine the query and retrieved documents into a single prompt\n",
    "    context = \"\\n\".join(retrieved_docs)\n",
    "    prompt = f\"question: {query} context: {context}\"\n",
    "\n",
    "    # Generate a response\n",
    "    inputs = gen_tokenizer(prompt, return_tensors=\"pt\", max_length=512, truncation=True)\n",
    "    with torch.no_grad():\n",
    "        outputs = gen_model.generate(\n",
    "            inputs.input_ids,\n",
    "            max_length=max_length,\n",
    "            num_beams=4,\n",
    "            early_stopping=True,\n",
    "            no_repeat_ngram_size=2\n",
    "        )\n",
    "    response = gen_tokenizer.decode(outputs[0], skip_special_tokens=True)\n",
    "    return response\n"
   ]
  },
  {
   "cell_type": "code",
   "execution_count": 85,
   "id": "8d167430-20ba-496c-9352-4588b17f2061",
   "metadata": {},
   "outputs": [
    {
     "name": "stdout",
     "output_type": "stream",
     "text": [
      "Generated Response:\n",
      "Bidirectional Encoder Representations from Transformers\n"
     ]
    }
   ],
   "source": [
    "# Generate a response for the example query\n",
    "response = generate_response(query, [doc for doc, score in retrieved_docs])\n",
    "print(\"Generated Response:\")\n",
    "print(response)"
   ]
  },
  {
   "cell_type": "code",
   "execution_count": 86,
   "id": "7d38067b-d0a1-4f14-965a-2cca925615ae",
   "metadata": {},
   "outputs": [],
   "source": [
    "#### Complete RAG System\n",
    "\n",
    "def rag_pipeline(query, documents, retriever_k=3, max_length=150):\n",
    "    retrieved_docs = retrieve_documents(query, index, documents, k=retriever_k)\n",
    "    response = generate_response(query, [doc for doc, score in retrieved_docs], max_length=max_length)\n",
    "    return response, retrieved_docs"
   ]
  },
  {
   "cell_type": "code",
   "execution_count": 87,
   "id": "9310abb0-f79c-4c31-a962-de36c5779f47",
   "metadata": {},
   "outputs": [
    {
     "name": "stdout",
     "output_type": "stream",
     "text": [
      "Query: What is BERT?\n",
      "\n",
      "Retrieved Documents:\n",
      "Document 1 (Distance: 23.7060):\n",
      "BERT (Bidirectional Encoder Representations from Transformers) is a transformer-based model designed to understand the context of a word based on its surroundings.\n",
      "Document 2 (Distance: 28.0793):\n",
      "RoBERTa is an optimized version of BERT with improved training methodology and more training data.\n",
      "Document 3 (Distance: 29.5908):\n",
      "DistilBERT is a smaller, faster version of BERT that retains 97% of its language understanding capabilities.\n",
      "\n",
      "Generated Response:\n",
      "Bidirectional Encoder Representations from Transformers\n",
      "--------------------\n",
      "Query: How does GPT work?\n",
      "\n",
      "Retrieved Documents:\n",
      "Document 1 (Distance: 33.8010):\n",
      "GPT (Generative Pre-trained Transformer) is a transformer-based model designed for natural language generation tasks.\n",
      "Document 2 (Distance: 52.0256):\n",
      "BERT (Bidirectional Encoder Representations from Transformers) is a transformer-based model designed to understand the context of a word based on its surroundings.\n",
      "Document 3 (Distance: 53.8828):\n",
      "Transformers are a type of deep learning model introduced in the paper 'Attention Is All You Need'.\n",
      "\n",
      "Generated Response:\n",
      "natural language generation tasks\n",
      "--------------------\n",
      "Query: What is the difference between BERT and GPT?\n",
      "\n",
      "Retrieved Documents:\n",
      "Document 1 (Distance: 26.5625):\n",
      "BERT (Bidirectional Encoder Representations from Transformers) is a transformer-based model designed to understand the context of a word based on its surroundings.\n",
      "Document 2 (Distance: 29.8387):\n",
      "GPT (Generative Pre-trained Transformer) is a transformer-based model designed for natural language generation tasks.\n",
      "Document 3 (Distance: 30.5984):\n",
      "DistilBERT is a smaller, faster version of BERT that retains 97% of its language understanding capabilities.\n",
      "\n",
      "Generated Response:\n",
      "can understand the context of a word based on its surroundings\n",
      "--------------------\n",
      "Query: What is a smaller version of BERT?\n",
      "\n",
      "Retrieved Documents:\n",
      "Document 1 (Distance: 22.9243):\n",
      "DistilBERT is a smaller, faster version of BERT that retains 97% of its language understanding capabilities.\n",
      "Document 2 (Distance: 23.4545):\n",
      "BERT (Bidirectional Encoder Representations from Transformers) is a transformer-based model designed to understand the context of a word based on its surroundings.\n",
      "Document 3 (Distance: 26.2909):\n",
      "RoBERTa is an optimized version of BERT with improved training methodology and more training data.\n",
      "\n",
      "Generated Response:\n",
      "DistilBERT\n",
      "--------------------\n"
     ]
    }
   ],
   "source": [
    "# Example queries\n",
    "queries = [\n",
    "    \"What is BERT?\",\n",
    "    \"How does GPT work?\",\n",
    "    \"What is the difference between BERT and GPT?\",\n",
    "    \"What is a smaller version of BERT?\"\n",
    "]\n",
    "# Run the RAG pipeline for each query\n",
    "for query in queries:\n",
    "    response, retrieved_docs = rag_pipeline(query, documents)\n",
    "    print(f\"Query: {query}\")\n",
    "    print()\n",
    "    print(\"Retrieved Documents:\")\n",
    "    for i, (doc, distance) in enumerate(retrieved_docs):\n",
    "        print(f\"Document {i+1} (Distance: {distance:.4f}):\")\n",
    "        print(doc)\n",
    "    print()\n",
    "    print(\"Generated Response:\")\n",
    "    print(response)\n",
    "    print(\"-\" * 20)"
   ]
  },
  {
   "cell_type": "code",
   "execution_count": null,
   "id": "be813531-a60b-482b-a202-0d8a6ce0559f",
   "metadata": {},
   "outputs": [],
   "source": []
  }
 ],
 "metadata": {
  "kernelspec": {
   "display_name": "Python 3 (ipykernel)",
   "language": "python",
   "name": "python3"
  },
  "language_info": {
   "codemirror_mode": {
    "name": "ipython",
    "version": 3
   },
   "file_extension": ".py",
   "mimetype": "text/x-python",
   "name": "python",
   "nbconvert_exporter": "python",
   "pygments_lexer": "ipython3",
   "version": "3.12.0"
  }
 },
 "nbformat": 4,
 "nbformat_minor": 5
}
