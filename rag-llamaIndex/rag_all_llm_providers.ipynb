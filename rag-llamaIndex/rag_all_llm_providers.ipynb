{
 "cells": [
  {
   "cell_type": "code",
   "execution_count": 9,
   "id": "794af468-0ece-4d65-89c1-9d418ddc29e3",
   "metadata": {},
   "outputs": [],
   "source": [
    "from llama_index.core import VectorStoreIndex, SimpleDirectoryReader, Settings"
   ]
  },
  {
   "cell_type": "code",
   "execution_count": 20,
   "id": "1b408bc6-e970-4db1-b926-e0a73bd4b816",
   "metadata": {},
   "outputs": [],
   "source": [
    "class RAGPipeline:\n",
    "    def __init__(self, llm_provider = \"groq\", llm_model=None, api_key=None, embed_model=None, data_dir=\"data\"):\n",
    "        self.llm= self._init_llm(llm_provider, llm_model, api_key)\n",
    "        self.embed_model = embed_model or \"local:BAAI/bge-small-en-v1.5\"\n",
    "        self.data_dir = data_dir\n",
    "        self.index = None\n",
    "        self.query_engine = None\n",
    "        self._setup()\n",
    "\n",
    "    def _init_llm(self, provider, model, api_key):\n",
    "        if provider == 'groq':\n",
    "            from llama_index.llms.groq import Groq\n",
    "            return Groq(model=model or 'llama3-70b-8192',\n",
    "                       api_key = api_key)\n",
    "        elif provider == \"openai\":\n",
    "            from llama_index.llms.openai import OpenAI\n",
    "            return OpenAI(model= model or 'gpt-4o',\n",
    "                         api_key = api_key)\n",
    "        elif provider == 'replicate':\n",
    "            from llama_index.llms.replicate import Replicate\n",
    "            return Replicate(model=model or \"meta/meta-llama-3-70b-instruct\",\n",
    "                            api_key = api_key)\n",
    "        else:\n",
    "            raise ValueError(\"Unsupported LLM provider\")\n",
    "    def _setup(self):\n",
    "        Settings.llm = self.llm\n",
    "        Settings.embed_model = self.embed_model\n",
    "        documents = SimpleDirectoryReader(self.data_dir).load_data()\n",
    "        self.index = VectorStoreIndex.from_documents(documents)\n",
    "        self.query_engine= self.index.as_query_engine(similarity_top_k=3, \n",
    "                                                     respose_mode = \"compact\")\n",
    "\n",
    "    def query(self, question):\n",
    "        return self.query_engine.query(question)"
   ]
  },
  {
   "cell_type": "code",
   "execution_count": 23,
   "id": "183fe84d-5229-4507-b5d4-cd269678f1ec",
   "metadata": {},
   "outputs": [],
   "source": [
    "# if __name__ == \"__main__\":\n",
    "llm_provider = \"groq\"\n",
    "groq_api_key = \"\"\n",
    "groq_llm_model = \"compound-beta\"\n",
    "embed_model = \"local:BAAI/bge-small-en-v1.5\"\n",
    "data_dir = \"data\"\n",
    "rag = RAGPipeline(llm_provider, groq_llm_model, api_key=groq_api_key, data_dir=data_dir)"
   ]
  },
  {
   "cell_type": "code",
   "execution_count": 24,
   "id": "5cb19f63-20d4-4458-9e50-b080c8a23fc5",
   "metadata": {},
   "outputs": [
    {
     "data": {
      "text/plain": [
       "Response(response='Vishal Babu is a Lead Data Scientist with over 9.5 years of experience in building and deploying AI/ML systems at scale. He specializes in Generative AI, LLMs, RAG pipelines, and intelligent agent frameworks. Vishal has a strong background in NLP, computer vision, and multimodal models, with expertise in modern ML stacks and data engineering. He has worked on various projects, including clinical note generation, sales call analysis, and real-time threat detection. \\n\\nVishal holds an M.Tech in Computer Science and Engineering from the National Institute of Technology Karnataka and a B.Tech in Computer Science and Engineering from the United College of Engineering and Research. He has a strong educational foundation and has worked with various companies, including InstantSys, Blackstraw.ai, Equinix, Larsen & Toubro Infotech, and AutoRABIT Inc.\\n\\nAs a skilled data scientist, Vishal has developed a range of technical skills, including programming languages such as Python, SQL, and PySpark, as well as expertise in data engineering, cloud computing, and machine learning frameworks. He is passionate about building reliable, scalable, and explainable AI systems with a focus on evaluation, model interpretability, and real-world impact. \\n\\nOverall, Vishal is a highly experienced and skilled data scientist with a strong background in AI, ML, and data engineering, and a passion for delivering high-quality solutions that drive real-world impact.', source_nodes=[NodeWithScore(node=TextNode(id_='e3ca053c-7436-4e84-b25d-383121ff4382', embedding=None, metadata={'page_label': '1', 'file_name': 'vishal_.pdf', 'file_path': '/mnt/d/ubuntu/study/gen_ai/llamaIndex-rag/data/vishal_.pdf', 'file_type': 'application/pdf', 'file_size': 114921, 'creation_date': '2025-05-12', 'last_modified_date': '2025-05-12'}, excluded_embed_metadata_keys=['file_name', 'file_type', 'file_size', 'creation_date', 'last_modified_date', 'last_accessed_date'], excluded_llm_metadata_keys=['file_name', 'file_type', 'file_size', 'creation_date', 'last_modified_date', 'last_accessed_date'], relationships={<NodeRelationship.SOURCE: '1'>: RelatedNodeInfo(node_id='919b4a13-dc3d-4cab-9910-264dc36a581a', node_type='4', metadata={'page_label': '1', 'file_name': 'vishal_.pdf', 'file_path': '/mnt/d/ubuntu/study/gen_ai/llamaIndex-rag/data/vishal_.pdf', 'file_type': 'application/pdf', 'file_size': 114921, 'creation_date': '2025-05-12', 'last_modified_date': '2025-05-12'}, hash='444466066edc5d8bc0a31ba1c0a1f6271fd711782b688c3781eac668a2f36b59')}, metadata_template='{key}: {value}', metadata_separator='\\n', text='VISHAL BABU\\nLead Data Scientist | MTech (CSE-IS) | NITK Surathkal\\nPune , India 411036 | +91-8802901311 | vishalbabu.in@gmail.com\\nlinkedin | github | hackerrank\\nSUMMARY\\nExperienced Lead Data Scientist with 9.5+ years in building and deploying AI/ML systems at scale. Specialized\\nin Generative AI, LLMs (OpenAI, Mistral, LLaMA, Falcon, Mixtral), RAG pipelines, and intelligent agent\\nframeworks like CrewAI. Deep expertise in NLP, computer vision, and multimodal models, with hands-on\\nexperience in transformers, BERT, T5, CLIP, SAM, and Diffusion Models.\\nSkilled in modern ML stack: PyTorch, TensorFlow, HuggingFace, LangChain, OpenCV, and ONNX. Strong data\\nengineering background with PySpark, SQL, and Airflow, and deployment expertise using Docker, FastAPI,\\nKubernetes, and AWS/GCP. Passionate about building reliable, scalable, and explainable AI systems with a focus\\non evaluation (Ragas, DeepEval), model interpretability, and real-world impact.\\nTECHNICAL SKILLS\\n\\uf0b7 Data Science |Machine Learning | Deep\\nLearning: End-to-end model development, EDA,\\ndata visualization, supervised/unsupervised\\nlearning, deep learning (CNN, RNN, LSTM,\\nTransformers), and Generative AI (RAG pipelines,\\nagentic AI, multimodal models – CLIP, BLIP, SAM,\\ndiffusion models). Skilled in synthetic data\\ngeneration, PEFT (LoRA, QLoRA, adapters), prompt\\nengineering, model evaluation (Ragas, DeepEval,\\nPromptFoo), and explainable AI.\\n\\uf0b7 Programming: Python, SQL, PySpark, NoSQL.\\n\\uf0b7 Data Engineering & Utilities:Apache Spark,\\nSQLAlchemy, web scraping (requests,\\nBeautifulSoup), API integration.\\n\\uf0b7 Frameworks & Libraries: scikit-learn,\\nTensorFlow, Keras, PyTorch, Hugging Face\\nTransformers, OpenCV, LangChain, Rasa, SparkML,\\nSpaCy, NLTK, Ollama, SmolAgents, ChromaDB,\\nSeaborn, Matplotlib, Pandas, NumPy.\\n\\uf0b7 Cloud & MLOps: AWS (EC2, S3, Kinesis, SageMaker,\\nECR, Bedrock, CloudWatch ), GCP, Azure,\\nDatabricks, Docker, Kubernetes, FastAPI, MLflow,\\nAirflow, Git, CI/CD.\\n\\uf0b7 Mathematics for ML/DL: Linear Algebra,\\nProbability, Statistics, Calculus, Optimization.\\n\\uf0b7 Miscellaneous:\\nData Structures & Algorithms, Streamlit, Web\\nTechnologies, Git, Agile practices.\\nEXPERIENCE\\nLead Data Scientist\\nInstantSys - Noida, India 10/2020 - Current\\n\\uf0b7 Leading end-to-end data science and GenAI initiatives across cross-domain projects in healthcare, HR tech,\\nmanufacturing, and cybersecurity including flagship solutions like Winchcamp and Ortho for Clove Dental,\\nand AI modules for Etherostech.\\nSr. Data Scientist\\nBlackstraw.ai - Pune, India 08/2019 - 10/2020\\n\\uf0b7 Led real-time object detection and anomaly detection projects in manufacturing and autonomous systems\\nusing YOLOv4/v5, DeepSORT, and XGBoost. Built scalable CV pipelines with PyTorch, integrated insights into\\nproduction, and optimized model performance for low-latency inference.', mimetype='text/plain', start_char_idx=0, end_char_idx=2791, metadata_seperator='\\n', text_template='{metadata_str}\\n\\n{content}'), score=0.7349513621778566), NodeWithScore(node=TextNode(id_='0c21af7d-3fbe-4c5f-8876-8a2d0e5bb29b', embedding=None, metadata={'page_label': '2', 'file_name': 'vishal_.pdf', 'file_path': '/mnt/d/ubuntu/study/gen_ai/llamaIndex-rag/data/vishal_.pdf', 'file_type': 'application/pdf', 'file_size': 114921, 'creation_date': '2025-05-12', 'last_modified_date': '2025-05-12'}, excluded_embed_metadata_keys=['file_name', 'file_type', 'file_size', 'creation_date', 'last_modified_date', 'last_accessed_date'], excluded_llm_metadata_keys=['file_name', 'file_type', 'file_size', 'creation_date', 'last_modified_date', 'last_accessed_date'], relationships={<NodeRelationship.SOURCE: '1'>: RelatedNodeInfo(node_id='a44d5414-1c55-4c33-853e-b3e3d0eb4904', node_type='4', metadata={'page_label': '2', 'file_name': 'vishal_.pdf', 'file_path': '/mnt/d/ubuntu/study/gen_ai/llamaIndex-rag/data/vishal_.pdf', 'file_type': 'application/pdf', 'file_size': 114921, 'creation_date': '2025-05-12', 'last_modified_date': '2025-05-12'}, hash='d3c5fa8ab4cbd087e6e7688b9cfb2de907097cf8134218e2315718004fb626e3')}, metadata_template='{key}: {value}', metadata_separator='\\n', text='Data Scientist\\nEquinix - Singapore 09/2018 - 08/2019\\n\\uf0b7 Delivered enterprise-grade ML solutions from POC to production. Built a transformer-based email\\nclassification model (BERT, HuggingFace) for automated ticket triaging. Developed scalable NLP pipelines\\nusing Python, AWS SageMaker, Lambda, and FastAPI. Integrated solutions into production to enhance\\noperational efficiency.\\nMachine Learning Engineer\\nLarsen & Toubro Infotech (LTI) - Pune, India 07/2016 - 09/2018\\n\\uf0b7 R&D on cutting-edge ML solutions, delivering predictive models for real-world business problems. Built end-to-\\nend pipelines using Python, scikit-learn, and SparkML, transforming raw data into deployable insights.\\nDelivered ML-powered products across finance and operations.\\nBackend Developer\\nAutoRABIT Inc. - Hyderabad 07/2015 - 07/2016\\n\\uf0b7 Developed scalable backend modules and RESTful APIs using Java, JavaScript, and jQuery. Built core services\\nlike EZ check-in and user-based auto-commit, and integrated version control systems (Git, SVN, TFS,\\nPerforce). Engineered a Git-hosted TFS wrapper to streamline DevOps workflows.\\nEDUCATION AND TRAINING\\nM.Tech (CSE-IS)\\nNational Institute of Technology Karnataka (NITK)\\nGrade: 7.25 Surathkal - 07/2015\\nB.Tech (CSE-IT)\\nUnited College of Engineering & Research (UCER)\\nGrade: 69.95 Greater Noida - 07/2011\\nPROFESSIONAL PROJECTS\\nClinicalNotesGen : Developed an AI assistant for dentists using Whisper ASR and fine-tuned LLaMA-3 for\\nstructured note generation from doctor-patient conversations. Deployed via FastAPI, with PostgreSQL for EHR\\nintegration, automating 80% of clinical documentation.\\nCallPotential AI: Built a GenAI pipeline for sales call analysis using Whisper ASR, LLaMA-3, and XGBoost for lead\\nqualification and intent detection. Integrated with CRM tools and deployed using FastAPI and Docker for scalable\\ninference.\\nReal-Time Threat Detection (ODCT): Led the development of a computer vision system using YOLOv5, DeepSORT,\\nand PyTorch on Mars/NVIDIA datasets. Enabled real-time object tracking and anomaly alerts in surveillance feeds,\\nreducing false positives by 30%.\\nAnomaly Detection in Manufacturing: Deployed an AI system using DCGANs, homomorphic filtering, and OpenCV\\nto detect surface defects in low-data environments. Enabled 24/7 automated quality checks with adaptive learning\\npipelines.\\nDocuParse (PDF Automation): Automated financial document parsing using TPOT, AutoKeras, and Abbyy OCR,\\ndelivering 95% accuracy in unstructured data extraction. Integrated into a Flask API for internal finance teams.\\nTravel Claim Fraud Detection: Built a fraud prediction system using SparkML, Isolation Forest, and SHAP for\\nexplainability. Enabled 3x faster processing of travel claims and identified outliers with >92% precision.', mimetype='text/plain', start_char_idx=0, end_char_idx=2757, metadata_seperator='\\n', text_template='{metadata_str}\\n\\n{content}'), score=0.6213346193705436), NodeWithScore(node=TextNode(id_='2be888c6-7b36-43d8-8af7-8493c2c8e90a', embedding=None, metadata={'page_label': '3', 'file_name': 'vishal_.pdf', 'file_path': '/mnt/d/ubuntu/study/gen_ai/llamaIndex-rag/data/vishal_.pdf', 'file_type': 'application/pdf', 'file_size': 114921, 'creation_date': '2025-05-12', 'last_modified_date': '2025-05-12'}, excluded_embed_metadata_keys=['file_name', 'file_type', 'file_size', 'creation_date', 'last_modified_date', 'last_accessed_date'], excluded_llm_metadata_keys=['file_name', 'file_type', 'file_size', 'creation_date', 'last_modified_date', 'last_accessed_date'], relationships={<NodeRelationship.SOURCE: '1'>: RelatedNodeInfo(node_id='f2dee85e-9249-4adc-a188-a1ffe79788eb', node_type='4', metadata={'page_label': '3', 'file_name': 'vishal_.pdf', 'file_path': '/mnt/d/ubuntu/study/gen_ai/llamaIndex-rag/data/vishal_.pdf', 'file_type': 'application/pdf', 'file_size': 114921, 'creation_date': '2025-05-12', 'last_modified_date': '2025-05-12'}, hash='23a3cd6483c33f8f9cbd0121747de8266c94b793da100442ce7baee5796b5ddd')}, metadata_template='{key}: {value}', metadata_separator='\\n', text='Email Triage with Transformers: Built a BERT-based email classification system to automate support ticket routing.\\nIntegrated with AWS SageMaker, Lambda, and FastAPI, reducing manual triage time by 70%.\\nMultimodal Agentic Chatbot (Prototype): Created a CrewAI-powered agent that integrates text, vision, and speech\\ninputs, using SAM and CLIP for image grounding, and Mixtral LLM for reasoning. Enabled dynamic multi-modal\\ninteractions for retail product support.\\nCustomer Behavior Prediction: Used XGBoost and Word2Vec embeddings on customer logs to model churn and\\nbehavior for targeted marketing campaigns.\\n·', mimetype='text/plain', start_char_idx=0, end_char_idx=610, metadata_seperator='\\n', text_template='{metadata_str}\\n\\n{content}'), score=0.5486484895665422)], metadata={'e3ca053c-7436-4e84-b25d-383121ff4382': {'page_label': '1', 'file_name': 'vishal_.pdf', 'file_path': '/mnt/d/ubuntu/study/gen_ai/llamaIndex-rag/data/vishal_.pdf', 'file_type': 'application/pdf', 'file_size': 114921, 'creation_date': '2025-05-12', 'last_modified_date': '2025-05-12'}, '0c21af7d-3fbe-4c5f-8876-8a2d0e5bb29b': {'page_label': '2', 'file_name': 'vishal_.pdf', 'file_path': '/mnt/d/ubuntu/study/gen_ai/llamaIndex-rag/data/vishal_.pdf', 'file_type': 'application/pdf', 'file_size': 114921, 'creation_date': '2025-05-12', 'last_modified_date': '2025-05-12'}, '2be888c6-7b36-43d8-8af7-8493c2c8e90a': {'page_label': '3', 'file_name': 'vishal_.pdf', 'file_path': '/mnt/d/ubuntu/study/gen_ai/llamaIndex-rag/data/vishal_.pdf', 'file_type': 'application/pdf', 'file_size': 114921, 'creation_date': '2025-05-12', 'last_modified_date': '2025-05-12'}})"
      ]
     },
     "execution_count": 24,
     "metadata": {},
     "output_type": "execute_result"
    }
   ],
   "source": [
    "rag.query(\"Who is vishal\")"
   ]
  },
  {
   "cell_type": "code",
   "execution_count": 27,
   "id": "4bf0b458-037a-4a84-8280-f69fd870fdf5",
   "metadata": {},
   "outputs": [],
   "source": [
    "REPLICATE_API_TOKEN=\"\"\n",
    "replicate_model_name = \"mistralai/mistral-7b-v0.1\"\n",
    "llm_provider = \"replicate\"\n",
    "embed_model = \"local:BAAI/bge-small-en-v1.5\"\n",
    "data_dir = \"data\"\n",
    "replicate_rag = RAGPipeline(llm_provider, llm_model=replicate_model_name, api_key=REPLICATE_API_TOKEN, data_dir=data_dir)"
   ]
  },
  {
   "cell_type": "code",
   "execution_count": null,
   "id": "7c81100d-3620-4b51-8470-36e608757657",
   "metadata": {},
   "outputs": [],
   "source": []
  }
 ],
 "metadata": {
  "kernelspec": {
   "display_name": "Python 3 (ipykernel)",
   "language": "python",
   "name": "python3"
  },
  "language_info": {
   "codemirror_mode": {
    "name": "ipython",
    "version": 3
   },
   "file_extension": ".py",
   "mimetype": "text/x-python",
   "name": "python",
   "nbconvert_exporter": "python",
   "pygments_lexer": "ipython3",
   "version": "3.11.12"
  }
 },
 "nbformat": 4,
 "nbformat_minor": 5
}
